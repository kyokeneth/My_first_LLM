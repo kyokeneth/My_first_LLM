{
  "nbformat": 4,
  "nbformat_minor": 0,
  "metadata": {
    "colab": {
      "provenance": [],
      "authorship_tag": "ABX9TyP8AdRhMXnSjhFm2UFbYbcI",
      "include_colab_link": true
    },
    "kernelspec": {
      "name": "python3",
      "display_name": "Python 3"
    },
    "language_info": {
      "name": "python"
    }
  },
  "cells": [
    {
      "cell_type": "markdown",
      "metadata": {
        "id": "view-in-github",
        "colab_type": "text"
      },
      "source": [
        "<a href=\"https://colab.research.google.com/github/kyokeneth/My_first_LLM/blob/main/LLM.ipynb\" target=\"_parent\"><img src=\"https://colab.research.google.com/assets/colab-badge.svg\" alt=\"Open In Colab\"/></a>"
      ]
    },
    {
      "cell_type": "code",
      "execution_count": 31,
      "metadata": {
        "id": "_OKOU4UR_ezA"
      },
      "outputs": [],
      "source": [
        "!pip install -q -U google-generativeai\n"
      ]
    },
    {
      "cell_type": "code",
      "source": [
        "import pathlib\n",
        "import textwrap\n",
        "\n",
        "import google.generativeai as genai\n",
        "\n",
        "from IPython.display import display\n",
        "from IPython.display import Markdown\n",
        "\n",
        "\n",
        "def to_markdown(text):\n",
        "  text = text.replace('•', '  *')\n",
        "  return Markdown(textwrap.indent(text, '> ', predicate=lambda _: True))"
      ],
      "metadata": {
        "id": "uzDaxlJL_u6n"
      },
      "execution_count": 32,
      "outputs": []
    },
    {
      "cell_type": "code",
      "source": [
        "# Guardando a chave da api com segurança\n",
        "from google.colab import userdata"
      ],
      "metadata": {
        "id": "7Jp_1fv__zAr"
      },
      "execution_count": 58,
      "outputs": []
    },
    {
      "cell_type": "code",
      "source": [
        "GOOGLE_API_KEY=userdata.get('GOOGLE_API_KEY')\n",
        "\n",
        "genai.configure(api_key=GOOGLE_API_KEY)"
      ],
      "metadata": {
        "id": "qLz1Qpeg_2wf"
      },
      "execution_count": 34,
      "outputs": []
    },
    {
      "cell_type": "code",
      "source": [
        "configura = {\n",
        "    'candidade_count': 1,\n",
        "    'temperature': 0.5,\n",
        "    'top_k': 40,\n",
        "    'top_p': 0.9\n",
        "}"
      ],
      "metadata": {
        "id": "vmnkohyNCAFO"
      },
      "execution_count": 48,
      "outputs": []
    },
    {
      "cell_type": "code",
      "source": [
        "seguranca = {\n",
        "    'CONTENT_FILTER': 'BLOCK_NONE',\n",
        "    'INSULT': 'BLOCK_NONE',\n",
        "    'PROFANITY':'BLOCK_NONE',\n",
        "    'THREAT': 'BLOCK_NONE',\n",
        "    'VIOLENCE': 'BLOCK_NONE',\n",
        "    'SEXUAL_CONTENT': 'BLOCK_NONE',\n",
        "    'RAGE': 'BLOCK_NONE',\n",
        "    'EXPLICIT_CONTENT': 'BLOCK_NONE',\n",
        "    'INAPPROPRIATE_LANGUAGE': 'BLOCK_NONE'\n",
        "}"
      ],
      "metadata": {
        "id": "vCyRh4bdCaOP"
      },
      "execution_count": 49,
      "outputs": []
    },
    {
      "cell_type": "code",
      "source": [
        "model=genai.GenerativeModel('gemini-1.0-pro-latest')"
      ],
      "metadata": {
        "id": "Jt6ydYOaD2_H"
      },
      "execution_count": 52,
      "outputs": []
    },
    {
      "cell_type": "code",
      "source": [
        "chat= model.start_chat(history=[])"
      ],
      "metadata": {
        "id": "HGS12_p3MbTs"
      },
      "execution_count": 54,
      "outputs": []
    },
    {
      "cell_type": "code",
      "source": [
        "prompt = input('esperando o prompt ')\n",
        "while prompt != 'fim':\n",
        "  response = chat.send_message(prompt)\n",
        "  print('Resposta:',response.text,'\\n')\n",
        "  prompt = input('esperando o prompt')\n",
        "\n"
      ],
      "metadata": {
        "id": "d7_lSRLdNA9M"
      },
      "execution_count": null,
      "outputs": []
    }
  ]
}